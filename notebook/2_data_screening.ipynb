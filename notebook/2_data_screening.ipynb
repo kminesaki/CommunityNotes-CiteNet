{
 "cells": [
  {
   "attachments": {},
   "cell_type": "markdown",
   "metadata": {},
   "source": [
    "## Consider which FQDNs to take into account in this study\n",
    "There's a difference in citation counts for each FQDN, so I need to consider which FQDNs to take into account"
   ]
  },
  {
   "cell_type": "code",
   "execution_count": 10,
   "metadata": {},
   "outputs": [],
   "source": [
    "import pandas as pd \n",
    "import numpy as np \n",
    "import ast"
   ]
  },
  {
   "cell_type": "code",
   "execution_count": 11,
   "metadata": {},
   "outputs": [
    {
     "data": {
      "text/html": [
       "<div>\n",
       "<style scoped>\n",
       "    .dataframe tbody tr th:only-of-type {\n",
       "        vertical-align: middle;\n",
       "    }\n",
       "\n",
       "    .dataframe tbody tr th {\n",
       "        vertical-align: top;\n",
       "    }\n",
       "\n",
       "    .dataframe thead th {\n",
       "        text-align: right;\n",
       "    }\n",
       "</style>\n",
       "<table border=\"1\" class=\"dataframe\">\n",
       "  <thead>\n",
       "    <tr style=\"text-align: right;\">\n",
       "      <th></th>\n",
       "      <th>summary</th>\n",
       "      <th>currentStatus</th>\n",
       "      <th>createdAtMillis</th>\n",
       "      <th>datetime</th>\n",
       "      <th>fqdn</th>\n",
       "      <th>fqdn_replaced</th>\n",
       "    </tr>\n",
       "  </thead>\n",
       "  <tbody>\n",
       "    <tr>\n",
       "      <th>0</th>\n",
       "      <td>Trump posted on Truth Social on 12/30/2023 tha...</td>\n",
       "      <td>CURRENTLY_RATED_HELPFUL</td>\n",
       "      <td>1704054854654</td>\n",
       "      <td>2024-01-01</td>\n",
       "      <td>['www.newsweek.com', 'pbs.twimg.com', 'truthso...</td>\n",
       "      <td>['www.newsweek.com', 'www.pbs.org', 'truthsoci...</td>\n",
       "    </tr>\n",
       "    <tr>\n",
       "      <th>1</th>\n",
       "      <td>This has been refuted multiple times as false....</td>\n",
       "      <td>CURRENTLY_RATED_HELPFUL</td>\n",
       "      <td>1704090450017</td>\n",
       "      <td>2024-01-01</td>\n",
       "      <td>['www.factcheck.org', 'www.reuters.com', 'apne...</td>\n",
       "      <td>['www.factcheck.org', 'www.reuters.com', 'apne...</td>\n",
       "    </tr>\n",
       "  </tbody>\n",
       "</table>\n",
       "</div>"
      ],
      "text/plain": [
       "                                             summary            currentStatus  \\\n",
       "0  Trump posted on Truth Social on 12/30/2023 tha...  CURRENTLY_RATED_HELPFUL   \n",
       "1  This has been refuted multiple times as false....  CURRENTLY_RATED_HELPFUL   \n",
       "\n",
       "   createdAtMillis    datetime  \\\n",
       "0    1704054854654  2024-01-01   \n",
       "1    1704090450017  2024-01-01   \n",
       "\n",
       "                                                fqdn  \\\n",
       "0  ['www.newsweek.com', 'pbs.twimg.com', 'truthso...   \n",
       "1  ['www.factcheck.org', 'www.reuters.com', 'apne...   \n",
       "\n",
       "                                       fqdn_replaced  \n",
       "0  ['www.newsweek.com', 'www.pbs.org', 'truthsoci...  \n",
       "1  ['www.factcheck.org', 'www.reuters.com', 'apne...  "
      ]
     },
     "execution_count": 11,
     "metadata": {},
     "output_type": "execute_result"
    }
   ],
   "source": [
    "data = pd.read_csv(\"../data/processed/notes_2024_fqdn.csv\")\n",
    "data.head(2)"
   ]
  },
  {
   "cell_type": "code",
   "execution_count": 12,
   "metadata": {},
   "outputs": [],
   "source": [
    "data[\"fqdn_replaced\"] = data[\"fqdn_replaced\"].apply(ast.literal_eval)\n",
    "data[\"fqdn\"] = data[\"fqdn\"].apply(ast.literal_eval)"
   ]
  },
  {
   "cell_type": "code",
   "execution_count": 13,
   "metadata": {},
   "outputs": [
    {
     "data": {
      "text/html": [
       "<div>\n",
       "<style scoped>\n",
       "    .dataframe tbody tr th:only-of-type {\n",
       "        vertical-align: middle;\n",
       "    }\n",
       "\n",
       "    .dataframe tbody tr th {\n",
       "        vertical-align: top;\n",
       "    }\n",
       "\n",
       "    .dataframe thead th {\n",
       "        text-align: right;\n",
       "    }\n",
       "</style>\n",
       "<table border=\"1\" class=\"dataframe\">\n",
       "  <thead>\n",
       "    <tr style=\"text-align: right;\">\n",
       "      <th></th>\n",
       "      <th>domain</th>\n",
       "      <th>count</th>\n",
       "    </tr>\n",
       "  </thead>\n",
       "  <tbody>\n",
       "    <tr>\n",
       "      <th>0</th>\n",
       "      <td>x.com</td>\n",
       "      <td>1050</td>\n",
       "    </tr>\n",
       "    <tr>\n",
       "      <th>1</th>\n",
       "      <td>en.m.wikipedia.org</td>\n",
       "      <td>299</td>\n",
       "    </tr>\n",
       "    <tr>\n",
       "      <th>2</th>\n",
       "      <td>www.youtube.com</td>\n",
       "      <td>278</td>\n",
       "    </tr>\n",
       "  </tbody>\n",
       "</table>\n",
       "</div>"
      ],
      "text/plain": [
       "               domain  count\n",
       "0               x.com   1050\n",
       "1  en.m.wikipedia.org    299\n",
       "2     www.youtube.com    278"
      ]
     },
     "execution_count": 13,
     "metadata": {},
     "output_type": "execute_result"
    }
   ],
   "source": [
    "from collections import Counter\n",
    "\n",
    "all_domains = [domain for sublist in data[\"fqdn_replaced\"] for domain in sublist]\n",
    "\n",
    "# count the occurrences of each domain\n",
    "domain_counts = Counter(all_domains)\n",
    "\n",
    "# sort the counts and convert to DataFrame\n",
    "df_counts = pd.DataFrame(domain_counts.items(), columns=[\"domain\", \"count\"]).sort_values(by=\"count\", ascending=False).reset_index(drop=True)\n",
    "\n",
    "df_counts.head(3)"
   ]
  },
  {
   "cell_type": "code",
   "execution_count": 14,
   "metadata": {},
   "outputs": [
    {
     "name": "stdout",
     "output_type": "stream",
     "text": [
      "Calculating best minimal value for power law fit\n",
      "estimated xmin: 2.0\n",
      "estimated alpha: 2.0797455922169883\n",
      "Loglikelihood ratio R: 0.0679273494871262\n",
      "p-value: 0.010987757095722592\n",
      "Loglikelihood ratio R: 418.0623667009996\n",
      "p-value: 1.1699506168909878e-09\n"
     ]
    },
    {
     "name": "stderr",
     "output_type": "stream",
     "text": [
      "/opt/anaconda3/lib/python3.12/site-packages/powerlaw.py:1615: RuntimeWarning: invalid value encountered in divide\n",
      "  CDF = CDF/norm\n",
      "'nan' in fit cumulative distribution values.\n",
      "Likely underflow or overflow error: the optimal fit for this distribution gives values that are so extreme that we lack the numerical precision to calculate them.\n"
     ]
    },
    {
     "data": {
      "image/png": "[encoded data removed]",
      "text/plain": [
       "<Figure size 640x480 with 1 Axes>"
      ]
     },
     "metadata": {},
     "output_type": "display_data"
    }
   ],
   "source": [
    "import powerlaw\n",
    "import matplotlib.pyplot as plt\n",
    "\n",
    "# check if the data is suitable for power law fitting\n",
    "df_counts[\"count\"]\n",
    "\n",
    "\n",
    "# fit the power law model\n",
    "fit = powerlaw.Fit(df_counts[\"count\"])\n",
    "\n",
    "# summarize the fit\n",
    "print(f\"estimated xmin: {fit.xmin}\")\n",
    "print(f\"estimated alpha: {fit.alpha}\")\n",
    "\n",
    "R, p = fit.distribution_compare('power_law', 'lognormal')\n",
    "print(f\"Loglikelihood ratio R: {R}\")\n",
    "print(f\"p-value: {p}\")\n",
    "\n",
    "R, p = fit.distribution_compare('power_law', 'exponential')\n",
    "print(f\"Loglikelihood ratio R: {R}\")\n",
    "print(f\"p-value: {p}\")\n",
    "\n",
    "# visualize the fit\n",
    "fig = fit.plot_pdf(label='Empirical data', color='b')\n",
    "fit.power_law.plot_pdf(color='r', linestyle='--', ax=fig, label='Power law fit')\n",
    "plt.legend()\n",
    "plt.xlabel(\"count\")\n",
    "plt.ylabel(\"P(x)\")\n",
    "plt.title(\"PDF with Power Law Fit\")\n",
    "plt.show()\n"
   ]
  },
  {
   "attachments": {},
   "cell_type": "markdown",
   "metadata": {},
   "source": [
    "This data statistically significantly follows power law (count > 2). However, to calculate both media bias scores and helpful scores, citation count is only 2 is likely to causes noise (e.g. when calculating confidence intervals)\n"
   ]
  },
  {
   "cell_type": "code",
   "execution_count": 15,
   "metadata": {},
   "outputs": [
    {
     "name": "stdout",
     "output_type": "stream",
     "text": [
      "when exceeds 80%?: www.donaldjtrump.com, 32\n",
      "culmative value: 4393\n"
     ]
    }
   ],
   "source": [
    "cumsum = df_counts[\"count\"].cumsum()\n",
    "total = df_counts[\"count\"].sum()\n",
    "threshold = total * 0.65\n",
    "\n",
    "for i, value in enumerate(cumsum):\n",
    "    if value >= threshold:\n",
    "        print(f\"when exceeds 65%?: {df_counts.loc[i, \"domain\"]}, {df_counts.loc[i, \"count\"]}\")\n",
    "        print(f\"culmative value: {value}\")\n",
    "        break"
   ]
  },
  {
   "attachments": {},
   "cell_type": "markdown",
   "metadata": {},
   "source": []
  },
  {
   "cell_type": "code",
   "execution_count": 17,
   "metadata": {},
   "outputs": [
    {
     "data": {
      "text/html": [
       "<div>\n",
       "<style scoped>\n",
       "    .dataframe tbody tr th:only-of-type {\n",
       "        vertical-align: middle;\n",
       "    }\n",
       "\n",
       "    .dataframe tbody tr th {\n",
       "        vertical-align: top;\n",
       "    }\n",
       "\n",
       "    .dataframe thead th {\n",
       "        text-align: right;\n",
       "    }\n",
       "</style>\n",
       "<table border=\"1\" class=\"dataframe\">\n",
       "  <thead>\n",
       "    <tr style=\"text-align: right;\">\n",
       "      <th></th>\n",
       "      <th>summary</th>\n",
       "      <th>currentStatus</th>\n",
       "      <th>createdAtMillis</th>\n",
       "      <th>datetime</th>\n",
       "      <th>fqdn</th>\n",
       "      <th>fqdn_replaced</th>\n",
       "      <th>fqdn_selected</th>\n",
       "    </tr>\n",
       "  </thead>\n",
       "  <tbody>\n",
       "    <tr>\n",
       "      <th>0</th>\n",
       "      <td>Trump posted on Truth Social on 12/30/2023 tha...</td>\n",
       "      <td>CURRENTLY_RATED_HELPFUL</td>\n",
       "      <td>1704054854654</td>\n",
       "      <td>2024-01-01</td>\n",
       "      <td>[www.newsweek.com, pbs.twimg.com, truthsocial....</td>\n",
       "      <td>[www.newsweek.com, www.pbs.org, truthsocial.com]</td>\n",
       "      <td>[www.newsweek.com, www.pbs.org, truthsocial.com]</td>\n",
       "    </tr>\n",
       "    <tr>\n",
       "      <th>1</th>\n",
       "      <td>This has been refuted multiple times as false....</td>\n",
       "      <td>CURRENTLY_RATED_HELPFUL</td>\n",
       "      <td>1704090450017</td>\n",
       "      <td>2024-01-01</td>\n",
       "      <td>[www.factcheck.org, www.reuters.com, apnews.com]</td>\n",
       "      <td>[www.factcheck.org, www.reuters.com, apnews.com]</td>\n",
       "      <td>[www.factcheck.org, www.reuters.com, apnews.com]</td>\n",
       "    </tr>\n",
       "  </tbody>\n",
       "</table>\n",
       "</div>"
      ],
      "text/plain": [
       "                                             summary            currentStatus  \\\n",
       "0  Trump posted on Truth Social on 12/30/2023 tha...  CURRENTLY_RATED_HELPFUL   \n",
       "1  This has been refuted multiple times as false....  CURRENTLY_RATED_HELPFUL   \n",
       "\n",
       "   createdAtMillis    datetime  \\\n",
       "0    1704054854654  2024-01-01   \n",
       "1    1704090450017  2024-01-01   \n",
       "\n",
       "                                                fqdn  \\\n",
       "0  [www.newsweek.com, pbs.twimg.com, truthsocial....   \n",
       "1   [www.factcheck.org, www.reuters.com, apnews.com]   \n",
       "\n",
       "                                      fqdn_replaced  \\\n",
       "0  [www.newsweek.com, www.pbs.org, truthsocial.com]   \n",
       "1  [www.factcheck.org, www.reuters.com, apnews.com]   \n",
       "\n",
       "                                      fqdn_selected  \n",
       "0  [www.newsweek.com, www.pbs.org, truthsocial.com]  \n",
       "1  [www.factcheck.org, www.reuters.com, apnews.com]  "
      ]
     },
     "execution_count": 17,
     "metadata": {},
     "output_type": "execute_result"
    }
   ],
   "source": [
    "df_selected = df_counts[df_counts[\"count\"] >= 32]\n",
    "media_list = df_selected[\"domain\"]\n",
    "\n",
    "## this data is the filtered by media_list\n",
    "\n",
    "data['fqdn_selected'] = data['fqdn_replaced'].apply(lambda x: [i for i in x if i in media_list.tolist()])\n",
    "\n",
    "data.head(2)"
   ]
  },
  {
   "cell_type": "code",
   "execution_count": 19,
   "metadata": {},
   "outputs": [],
   "source": [
    "data.to_csv(\"../data/processed/notes_2024_fqdn_selected.csv\", index=False)"
   ]
  },
  {
   "cell_type": "code",
   "execution_count": null,
   "metadata": {},
   "outputs": [],
   "source": []
  }
 ],
 "metadata": {
  "kernelspec": {
   "display_name": "base",
   "language": "python",
   "name": "python3"
  },
  "language_info": {
   "codemirror_mode": {
    "name": "ipython",
    "version": 3
   },
   "file_extension": ".py",
   "mimetype": "text/x-python",
   "name": "python",
   "nbconvert_exporter": "python",
   "pygments_lexer": "ipython3",
   "version": "3.12.7"
  },
  "orig_nbformat": 4
 },
 "nbformat": 4,
 "nbformat_minor": 2
}
